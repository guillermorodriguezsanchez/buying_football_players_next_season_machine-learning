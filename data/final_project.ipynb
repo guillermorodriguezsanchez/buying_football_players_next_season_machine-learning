{
 "cells": [
  {
   "cell_type": "markdown",
   "id": "99b38983",
   "metadata": {},
   "source": [
    "# Predicting the best football players fit for my team"
   ]
  },
  {
   "cell_type": "markdown",
   "id": "e61599e3",
   "metadata": {},
   "source": [
    "## Guillermo de los Reyes Rodríguez Sánchez"
   ]
  },
  {
   "cell_type": "markdown",
   "id": "c544ab66",
   "metadata": {},
   "source": [
    "The aim of this project is to predict which football players are fit to play for my team. More specifically, the project aims to determine which players have the best total statistics that would make them suitable for selection in the team, based on a set of different features and measurements depending on the manager tactics and position.\n",
    "\n",
    "To achieve this goal, I will be using data on a number of professional football players, including their performance statistics. I will use machine learning techniques to analyze this data and train models that can predict which players are most likely to be fit to play for my team.\n",
    "\n",
    "The project will be divided into several parts. First, I will conduct an initial data exploration to understand the features of the data and determine which features are most relevant for predicting player fitness. I will then proceed to train and evaluate different machine learning models, such as logistic regression and support vector machines, to predict player fitness.\n",
    "\n",
    "Finally, I will evaluate the outcome of the project and draw conclusions on the effectiveness of the models used. Additionally, I will also identify areas where the project can be improved in the future."
   ]
  },
  {
   "cell_type": "markdown",
   "id": "70850a28",
   "metadata": {},
   "source": [
    "## Libraries Import"
   ]
  },
  {
   "cell_type": "code",
   "execution_count": 1,
   "id": "6052ea9e",
   "metadata": {},
   "outputs": [],
   "source": [
    "\n",
    "#Importing all libraries\n",
    "\n",
    "import re\n",
    "import numpy as np\n",
    "import pandas as pd\n",
    "import matplotlib\n",
    "import matplotlib.pyplot as plt\n",
    "from IPython.display import Markdown, display\n",
    "from collections import Counter\n",
    "from matplotlib import cm\n",
    "from re import sub\n",
    "import seaborn as sns\n",
    "\n",
    "from sklearn.model_selection import train_test_split\n",
    "from sklearn.linear_model import LogisticRegression\n",
    "from sklearn.metrics import accuracy_score\n",
    "from sklearn.metrics import precision_score, recall_score, f1_score, confusion_matrix\n",
    "\n",
    "from sklearn.metrics import confusion_matrix\n",
    "import itertools\n",
    "\n",
    "from sklearn.svm import SVC\n",
    "\n",
    "from sklearn.tree import DecisionTreeClassifier\n",
    "\n",
    "from sklearn.model_selection import cross_val_score\n",
    "\n",
    "%matplotlib inline\n",
    "\n",
    "import warnings\n",
    "warnings.filterwarnings('ignore')"
   ]
  },
  {
   "cell_type": "markdown",
   "id": "af760782",
   "metadata": {},
   "source": [
    "## Data Exploration"
   ]
  },
  {
   "cell_type": "markdown",
   "id": "9931b2d1",
   "metadata": {},
   "source": [
    "In this part I am going to read the dataframe that I already downloaded before and included in the same project.\n",
    "Besides, I will perform some data cleaning."
   ]
  },
  {
   "cell_type": "markdown",
   "id": "d0ad8368",
   "metadata": {},
   "source": [
    "### Reading the dataframe"
   ]
  },
  {
   "cell_type": "markdown",
   "id": "9c21c73e",
   "metadata": {},
   "source": [
    "I will start reading the dataframe which contains from 2021 to 2022 football players stats per 90 minutes. \n",
    "Only players of Premier League, Ligue 1, Bundesliga, Serie A and La Liga are listed."
   ]
  },
  {
   "cell_type": "code",
   "execution_count": 2,
   "id": "07985252",
   "metadata": {},
   "outputs": [],
   "source": [
    "#Loading data\n",
    "football_players_df = pd.read_csv('2021-2022 Football Player Stats.csv', sep=';', encoding='ISO-8859-1')"
   ]
  },
  {
   "cell_type": "code",
   "execution_count": 3,
   "id": "93dc8c73",
   "metadata": {},
   "outputs": [
    {
     "data": {
      "text/html": [
       "<div>\n",
       "<style scoped>\n",
       "    .dataframe tbody tr th:only-of-type {\n",
       "        vertical-align: middle;\n",
       "    }\n",
       "\n",
       "    .dataframe tbody tr th {\n",
       "        vertical-align: top;\n",
       "    }\n",
       "\n",
       "    .dataframe thead th {\n",
       "        text-align: right;\n",
       "    }\n",
       "</style>\n",
       "<table border=\"1\" class=\"dataframe\">\n",
       "  <thead>\n",
       "    <tr style=\"text-align: right;\">\n",
       "      <th></th>\n",
       "      <th>Rk</th>\n",
       "      <th>Player</th>\n",
       "      <th>Nation</th>\n",
       "      <th>Pos</th>\n",
       "      <th>Squad</th>\n",
       "      <th>Comp</th>\n",
       "      <th>Age</th>\n",
       "      <th>Born</th>\n",
       "      <th>MP</th>\n",
       "      <th>Starts</th>\n",
       "      <th>...</th>\n",
       "      <th>Off</th>\n",
       "      <th>Crs</th>\n",
       "      <th>TklW</th>\n",
       "      <th>PKwon</th>\n",
       "      <th>PKcon</th>\n",
       "      <th>OG</th>\n",
       "      <th>Recov</th>\n",
       "      <th>AerWon</th>\n",
       "      <th>AerLost</th>\n",
       "      <th>AerWon%</th>\n",
       "    </tr>\n",
       "  </thead>\n",
       "  <tbody>\n",
       "    <tr>\n",
       "      <th>0</th>\n",
       "      <td>1</td>\n",
       "      <td>Max Aarons</td>\n",
       "      <td>ENG</td>\n",
       "      <td>DF</td>\n",
       "      <td>Norwich City</td>\n",
       "      <td>Premier League</td>\n",
       "      <td>22.0</td>\n",
       "      <td>2000</td>\n",
       "      <td>34</td>\n",
       "      <td>32</td>\n",
       "      <td>...</td>\n",
       "      <td>0.03</td>\n",
       "      <td>1.41</td>\n",
       "      <td>1.16</td>\n",
       "      <td>0.0</td>\n",
       "      <td>0.06</td>\n",
       "      <td>0.03</td>\n",
       "      <td>5.53</td>\n",
       "      <td>0.47</td>\n",
       "      <td>1.59</td>\n",
       "      <td>22.7</td>\n",
       "    </tr>\n",
       "    <tr>\n",
       "      <th>1</th>\n",
       "      <td>2</td>\n",
       "      <td>Yunis Abdelhamid</td>\n",
       "      <td>MAR</td>\n",
       "      <td>DF</td>\n",
       "      <td>Reims</td>\n",
       "      <td>Ligue 1</td>\n",
       "      <td>34.0</td>\n",
       "      <td>1987</td>\n",
       "      <td>34</td>\n",
       "      <td>34</td>\n",
       "      <td>...</td>\n",
       "      <td>0.00</td>\n",
       "      <td>0.06</td>\n",
       "      <td>1.39</td>\n",
       "      <td>0.0</td>\n",
       "      <td>0.03</td>\n",
       "      <td>0.00</td>\n",
       "      <td>6.77</td>\n",
       "      <td>2.02</td>\n",
       "      <td>1.36</td>\n",
       "      <td>59.8</td>\n",
       "    </tr>\n",
       "    <tr>\n",
       "      <th>2</th>\n",
       "      <td>3</td>\n",
       "      <td>Salis Abdul Samed</td>\n",
       "      <td>GHA</td>\n",
       "      <td>MF</td>\n",
       "      <td>Clermont Foot</td>\n",
       "      <td>Ligue 1</td>\n",
       "      <td>22.0</td>\n",
       "      <td>2000</td>\n",
       "      <td>31</td>\n",
       "      <td>29</td>\n",
       "      <td>...</td>\n",
       "      <td>0.00</td>\n",
       "      <td>0.36</td>\n",
       "      <td>1.24</td>\n",
       "      <td>0.0</td>\n",
       "      <td>0.00</td>\n",
       "      <td>0.00</td>\n",
       "      <td>8.76</td>\n",
       "      <td>0.88</td>\n",
       "      <td>0.88</td>\n",
       "      <td>50.0</td>\n",
       "    </tr>\n",
       "    <tr>\n",
       "      <th>3</th>\n",
       "      <td>4</td>\n",
       "      <td>Laurent Abergel</td>\n",
       "      <td>FRA</td>\n",
       "      <td>MF</td>\n",
       "      <td>Lorient</td>\n",
       "      <td>Ligue 1</td>\n",
       "      <td>29.0</td>\n",
       "      <td>1993</td>\n",
       "      <td>34</td>\n",
       "      <td>34</td>\n",
       "      <td>...</td>\n",
       "      <td>0.03</td>\n",
       "      <td>0.79</td>\n",
       "      <td>2.23</td>\n",
       "      <td>0.0</td>\n",
       "      <td>0.00</td>\n",
       "      <td>0.00</td>\n",
       "      <td>8.87</td>\n",
       "      <td>0.43</td>\n",
       "      <td>0.43</td>\n",
       "      <td>50.0</td>\n",
       "    </tr>\n",
       "    <tr>\n",
       "      <th>4</th>\n",
       "      <td>5</td>\n",
       "      <td>Charles Abi</td>\n",
       "      <td>FRA</td>\n",
       "      <td>FW</td>\n",
       "      <td>Saint-Étienne</td>\n",
       "      <td>Ligue 1</td>\n",
       "      <td>22.0</td>\n",
       "      <td>2000</td>\n",
       "      <td>1</td>\n",
       "      <td>1</td>\n",
       "      <td>...</td>\n",
       "      <td>0.00</td>\n",
       "      <td>2.00</td>\n",
       "      <td>0.00</td>\n",
       "      <td>0.0</td>\n",
       "      <td>0.00</td>\n",
       "      <td>0.00</td>\n",
       "      <td>4.00</td>\n",
       "      <td>2.00</td>\n",
       "      <td>0.00</td>\n",
       "      <td>100.0</td>\n",
       "    </tr>\n",
       "  </tbody>\n",
       "</table>\n",
       "<p>5 rows × 143 columns</p>\n",
       "</div>"
      ],
      "text/plain": [
       "   Rk             Player Nation Pos          Squad            Comp   Age  \\\n",
       "0   1         Max Aarons    ENG  DF   Norwich City  Premier League  22.0   \n",
       "1   2   Yunis Abdelhamid    MAR  DF          Reims         Ligue 1  34.0   \n",
       "2   3  Salis Abdul Samed    GHA  MF  Clermont Foot         Ligue 1  22.0   \n",
       "3   4    Laurent Abergel    FRA  MF        Lorient         Ligue 1  29.0   \n",
       "4   5        Charles Abi    FRA  FW  Saint-Étienne         Ligue 1  22.0   \n",
       "\n",
       "   Born  MP  Starts  ...   Off   Crs  TklW  PKwon  PKcon    OG  Recov  AerWon  \\\n",
       "0  2000  34      32  ...  0.03  1.41  1.16    0.0   0.06  0.03   5.53    0.47   \n",
       "1  1987  34      34  ...  0.00  0.06  1.39    0.0   0.03  0.00   6.77    2.02   \n",
       "2  2000  31      29  ...  0.00  0.36  1.24    0.0   0.00  0.00   8.76    0.88   \n",
       "3  1993  34      34  ...  0.03  0.79  2.23    0.0   0.00  0.00   8.87    0.43   \n",
       "4  2000   1       1  ...  0.00  2.00  0.00    0.0   0.00  0.00   4.00    2.00   \n",
       "\n",
       "   AerLost  AerWon%  \n",
       "0     1.59     22.7  \n",
       "1     1.36     59.8  \n",
       "2     0.88     50.0  \n",
       "3     0.43     50.0  \n",
       "4     0.00    100.0  \n",
       "\n",
       "[5 rows x 143 columns]"
      ]
     },
     "execution_count": 3,
     "metadata": {},
     "output_type": "execute_result"
    }
   ],
   "source": [
    "football_players_df.head()"
   ]
  },
  {
   "cell_type": "markdown",
   "id": "82fb5b04",
   "metadata": {},
   "source": [
    "## Dataframe description"
   ]
  },
  {
   "cell_type": "markdown",
   "id": "dad29171",
   "metadata": {},
   "source": [
    "This dataframe can be found here : https://www.kaggle.com/datasets/vivovinco/20212022-football-player-stats . \n",
    "The data has some information about the players such as Nation, Name, Competition, Squad, Position, Matched played, Minutes, Goals, Assists, etc. All of the stats which are necessary to compute the total stats for each players based on position and manager tactics. "
   ]
  },
  {
   "cell_type": "code",
   "execution_count": 4,
   "id": "b965a533",
   "metadata": {},
   "outputs": [
    {
     "data": {
      "text/html": [
       "<div>\n",
       "<style scoped>\n",
       "    .dataframe tbody tr th:only-of-type {\n",
       "        vertical-align: middle;\n",
       "    }\n",
       "\n",
       "    .dataframe tbody tr th {\n",
       "        vertical-align: top;\n",
       "    }\n",
       "\n",
       "    .dataframe thead th {\n",
       "        text-align: right;\n",
       "    }\n",
       "</style>\n",
       "<table border=\"1\" class=\"dataframe\">\n",
       "  <thead>\n",
       "    <tr style=\"text-align: right;\">\n",
       "      <th></th>\n",
       "      <th>Rk</th>\n",
       "      <th>Age</th>\n",
       "      <th>Born</th>\n",
       "      <th>MP</th>\n",
       "      <th>Starts</th>\n",
       "      <th>Min</th>\n",
       "      <th>90s</th>\n",
       "      <th>Goals</th>\n",
       "      <th>Shots</th>\n",
       "      <th>SoT</th>\n",
       "      <th>...</th>\n",
       "      <th>Off</th>\n",
       "      <th>Crs</th>\n",
       "      <th>TklW</th>\n",
       "      <th>PKwon</th>\n",
       "      <th>PKcon</th>\n",
       "      <th>OG</th>\n",
       "      <th>Recov</th>\n",
       "      <th>AerWon</th>\n",
       "      <th>AerLost</th>\n",
       "      <th>AerWon%</th>\n",
       "    </tr>\n",
       "  </thead>\n",
       "  <tbody>\n",
       "    <tr>\n",
       "      <th>count</th>\n",
       "      <td>2921.000000</td>\n",
       "      <td>2920.000000</td>\n",
       "      <td>2921.000000</td>\n",
       "      <td>2921.000000</td>\n",
       "      <td>2921.000000</td>\n",
       "      <td>2921.000000</td>\n",
       "      <td>2921.000000</td>\n",
       "      <td>2921.000000</td>\n",
       "      <td>2921.000000</td>\n",
       "      <td>2921.000000</td>\n",
       "      <td>...</td>\n",
       "      <td>2921.000000</td>\n",
       "      <td>2921.000000</td>\n",
       "      <td>2921.000000</td>\n",
       "      <td>2921.00000</td>\n",
       "      <td>2921.000000</td>\n",
       "      <td>2921.000000</td>\n",
       "      <td>2921.000000</td>\n",
       "      <td>2921.000000</td>\n",
       "      <td>2921.000000</td>\n",
       "      <td>2921.000000</td>\n",
       "    </tr>\n",
       "    <tr>\n",
       "      <th>mean</th>\n",
       "      <td>1461.000000</td>\n",
       "      <td>26.092123</td>\n",
       "      <td>1994.725094</td>\n",
       "      <td>18.800068</td>\n",
       "      <td>13.749743</td>\n",
       "      <td>1234.756248</td>\n",
       "      <td>13.719069</td>\n",
       "      <td>0.111274</td>\n",
       "      <td>1.220431</td>\n",
       "      <td>0.391462</td>\n",
       "      <td>...</td>\n",
       "      <td>0.195029</td>\n",
       "      <td>1.063708</td>\n",
       "      <td>1.026689</td>\n",
       "      <td>0.01519</td>\n",
       "      <td>0.013050</td>\n",
       "      <td>0.003451</td>\n",
       "      <td>7.410294</td>\n",
       "      <td>1.664286</td>\n",
       "      <td>1.858305</td>\n",
       "      <td>40.485861</td>\n",
       "    </tr>\n",
       "    <tr>\n",
       "      <th>std</th>\n",
       "      <td>843.364393</td>\n",
       "      <td>4.641746</td>\n",
       "      <td>37.210426</td>\n",
       "      <td>11.619882</td>\n",
       "      <td>11.393763</td>\n",
       "      <td>977.941288</td>\n",
       "      <td>10.865255</td>\n",
       "      <td>0.233688</td>\n",
       "      <td>1.511266</td>\n",
       "      <td>0.784754</td>\n",
       "      <td>...</td>\n",
       "      <td>0.509935</td>\n",
       "      <td>1.341177</td>\n",
       "      <td>1.028466</td>\n",
       "      <td>0.21167</td>\n",
       "      <td>0.052864</td>\n",
       "      <td>0.020306</td>\n",
       "      <td>3.650554</td>\n",
       "      <td>1.938046</td>\n",
       "      <td>2.245096</td>\n",
       "      <td>24.297290</td>\n",
       "    </tr>\n",
       "    <tr>\n",
       "      <th>min</th>\n",
       "      <td>1.000000</td>\n",
       "      <td>16.000000</td>\n",
       "      <td>0.000000</td>\n",
       "      <td>1.000000</td>\n",
       "      <td>0.000000</td>\n",
       "      <td>1.000000</td>\n",
       "      <td>0.000000</td>\n",
       "      <td>0.000000</td>\n",
       "      <td>0.000000</td>\n",
       "      <td>0.000000</td>\n",
       "      <td>...</td>\n",
       "      <td>0.000000</td>\n",
       "      <td>0.000000</td>\n",
       "      <td>0.000000</td>\n",
       "      <td>0.00000</td>\n",
       "      <td>0.000000</td>\n",
       "      <td>0.000000</td>\n",
       "      <td>0.000000</td>\n",
       "      <td>0.000000</td>\n",
       "      <td>0.000000</td>\n",
       "      <td>0.000000</td>\n",
       "    </tr>\n",
       "    <tr>\n",
       "      <th>25%</th>\n",
       "      <td>731.000000</td>\n",
       "      <td>23.000000</td>\n",
       "      <td>1992.000000</td>\n",
       "      <td>8.000000</td>\n",
       "      <td>3.000000</td>\n",
       "      <td>307.000000</td>\n",
       "      <td>3.400000</td>\n",
       "      <td>0.000000</td>\n",
       "      <td>0.280000</td>\n",
       "      <td>0.000000</td>\n",
       "      <td>...</td>\n",
       "      <td>0.000000</td>\n",
       "      <td>0.000000</td>\n",
       "      <td>0.430000</td>\n",
       "      <td>0.00000</td>\n",
       "      <td>0.000000</td>\n",
       "      <td>0.000000</td>\n",
       "      <td>5.070000</td>\n",
       "      <td>0.520000</td>\n",
       "      <td>0.840000</td>\n",
       "      <td>26.200000</td>\n",
       "    </tr>\n",
       "    <tr>\n",
       "      <th>50%</th>\n",
       "      <td>1461.000000</td>\n",
       "      <td>26.000000</td>\n",
       "      <td>1996.000000</td>\n",
       "      <td>20.000000</td>\n",
       "      <td>12.000000</td>\n",
       "      <td>1102.000000</td>\n",
       "      <td>12.200000</td>\n",
       "      <td>0.000000</td>\n",
       "      <td>0.820000</td>\n",
       "      <td>0.190000</td>\n",
       "      <td>...</td>\n",
       "      <td>0.000000</td>\n",
       "      <td>0.590000</td>\n",
       "      <td>0.920000</td>\n",
       "      <td>0.00000</td>\n",
       "      <td>0.000000</td>\n",
       "      <td>0.000000</td>\n",
       "      <td>7.380000</td>\n",
       "      <td>1.230000</td>\n",
       "      <td>1.390000</td>\n",
       "      <td>43.500000</td>\n",
       "    </tr>\n",
       "    <tr>\n",
       "      <th>75%</th>\n",
       "      <td>2191.000000</td>\n",
       "      <td>29.000000</td>\n",
       "      <td>1999.000000</td>\n",
       "      <td>29.000000</td>\n",
       "      <td>23.000000</td>\n",
       "      <td>2025.000000</td>\n",
       "      <td>22.500000</td>\n",
       "      <td>0.150000</td>\n",
       "      <td>1.830000</td>\n",
       "      <td>0.560000</td>\n",
       "      <td>...</td>\n",
       "      <td>0.200000</td>\n",
       "      <td>1.700000</td>\n",
       "      <td>1.410000</td>\n",
       "      <td>0.00000</td>\n",
       "      <td>0.000000</td>\n",
       "      <td>0.000000</td>\n",
       "      <td>9.380000</td>\n",
       "      <td>2.270000</td>\n",
       "      <td>2.210000</td>\n",
       "      <td>57.100000</td>\n",
       "    </tr>\n",
       "    <tr>\n",
       "      <th>max</th>\n",
       "      <td>2921.000000</td>\n",
       "      <td>41.000000</td>\n",
       "      <td>2006.000000</td>\n",
       "      <td>38.000000</td>\n",
       "      <td>38.000000</td>\n",
       "      <td>3420.000000</td>\n",
       "      <td>38.000000</td>\n",
       "      <td>5.000000</td>\n",
       "      <td>20.000000</td>\n",
       "      <td>20.000000</td>\n",
       "      <td>...</td>\n",
       "      <td>10.000000</td>\n",
       "      <td>15.000000</td>\n",
       "      <td>10.000000</td>\n",
       "      <td>10.00000</td>\n",
       "      <td>1.430000</td>\n",
       "      <td>0.500000</td>\n",
       "      <td>40.000000</td>\n",
       "      <td>30.000000</td>\n",
       "      <td>40.000000</td>\n",
       "      <td>100.000000</td>\n",
       "    </tr>\n",
       "  </tbody>\n",
       "</table>\n",
       "<p>8 rows × 138 columns</p>\n",
       "</div>"
      ],
      "text/plain": [
       "                Rk          Age         Born           MP       Starts  \\\n",
       "count  2921.000000  2920.000000  2921.000000  2921.000000  2921.000000   \n",
       "mean   1461.000000    26.092123  1994.725094    18.800068    13.749743   \n",
       "std     843.364393     4.641746    37.210426    11.619882    11.393763   \n",
       "min       1.000000    16.000000     0.000000     1.000000     0.000000   \n",
       "25%     731.000000    23.000000  1992.000000     8.000000     3.000000   \n",
       "50%    1461.000000    26.000000  1996.000000    20.000000    12.000000   \n",
       "75%    2191.000000    29.000000  1999.000000    29.000000    23.000000   \n",
       "max    2921.000000    41.000000  2006.000000    38.000000    38.000000   \n",
       "\n",
       "               Min          90s        Goals        Shots          SoT  ...  \\\n",
       "count  2921.000000  2921.000000  2921.000000  2921.000000  2921.000000  ...   \n",
       "mean   1234.756248    13.719069     0.111274     1.220431     0.391462  ...   \n",
       "std     977.941288    10.865255     0.233688     1.511266     0.784754  ...   \n",
       "min       1.000000     0.000000     0.000000     0.000000     0.000000  ...   \n",
       "25%     307.000000     3.400000     0.000000     0.280000     0.000000  ...   \n",
       "50%    1102.000000    12.200000     0.000000     0.820000     0.190000  ...   \n",
       "75%    2025.000000    22.500000     0.150000     1.830000     0.560000  ...   \n",
       "max    3420.000000    38.000000     5.000000    20.000000    20.000000  ...   \n",
       "\n",
       "               Off          Crs         TklW       PKwon        PKcon  \\\n",
       "count  2921.000000  2921.000000  2921.000000  2921.00000  2921.000000   \n",
       "mean      0.195029     1.063708     1.026689     0.01519     0.013050   \n",
       "std       0.509935     1.341177     1.028466     0.21167     0.052864   \n",
       "min       0.000000     0.000000     0.000000     0.00000     0.000000   \n",
       "25%       0.000000     0.000000     0.430000     0.00000     0.000000   \n",
       "50%       0.000000     0.590000     0.920000     0.00000     0.000000   \n",
       "75%       0.200000     1.700000     1.410000     0.00000     0.000000   \n",
       "max      10.000000    15.000000    10.000000    10.00000     1.430000   \n",
       "\n",
       "                OG        Recov       AerWon      AerLost      AerWon%  \n",
       "count  2921.000000  2921.000000  2921.000000  2921.000000  2921.000000  \n",
       "mean      0.003451     7.410294     1.664286     1.858305    40.485861  \n",
       "std       0.020306     3.650554     1.938046     2.245096    24.297290  \n",
       "min       0.000000     0.000000     0.000000     0.000000     0.000000  \n",
       "25%       0.000000     5.070000     0.520000     0.840000    26.200000  \n",
       "50%       0.000000     7.380000     1.230000     1.390000    43.500000  \n",
       "75%       0.000000     9.380000     2.270000     2.210000    57.100000  \n",
       "max       0.500000    40.000000    30.000000    40.000000   100.000000  \n",
       "\n",
       "[8 rows x 138 columns]"
      ]
     },
     "execution_count": 4,
     "metadata": {},
     "output_type": "execute_result"
    }
   ],
   "source": [
    "football_players_df.describe()"
   ]
  },
  {
   "cell_type": "markdown",
   "id": "587873d1",
   "metadata": {},
   "source": [
    "## Data exploration"
   ]
  },
  {
   "cell_type": "code",
   "execution_count": 5,
   "id": "beee17b4",
   "metadata": {},
   "outputs": [
    {
     "data": {
      "text/plain": [
       "(2921, 143)"
      ]
     },
     "execution_count": 5,
     "metadata": {},
     "output_type": "execute_result"
    }
   ],
   "source": [
    "football_players_df.shape"
   ]
  },
  {
   "cell_type": "code",
   "execution_count": 26,
   "id": "0317eb95",
   "metadata": {},
   "outputs": [
    {
     "data": {
      "text/plain": [
       "Rk           int64\n",
       "Player      object\n",
       "Nation      object\n",
       "Pos         object\n",
       "Squad       object\n",
       "            ...   \n",
       "OG         float64\n",
       "Recov      float64\n",
       "AerWon     float64\n",
       "AerLost    float64\n",
       "AerWon%    float64\n",
       "Length: 143, dtype: object"
      ]
     },
     "execution_count": 26,
     "metadata": {},
     "output_type": "execute_result"
    }
   ],
   "source": [
    "#Finding out data types for each column in our dataset\n",
    "football_players_df.dtypes"
   ]
  },
  {
   "cell_type": "code",
   "execution_count": 6,
   "id": "5d641996",
   "metadata": {},
   "outputs": [
    {
     "name": "stdout",
     "output_type": "stream",
     "text": [
      "Rk         0\n",
      "Player     0\n",
      "Nation     1\n",
      "Pos        0\n",
      "Squad      0\n",
      "          ..\n",
      "OG         0\n",
      "Recov      0\n",
      "AerWon     0\n",
      "AerLost    0\n",
      "AerWon%    0\n",
      "Length: 143, dtype: int64\n"
     ]
    }
   ],
   "source": [
    "print(football_players_df.isnull().sum())"
   ]
  },
  {
   "cell_type": "code",
   "execution_count": 7,
   "id": "52e69bd1",
   "metadata": {},
   "outputs": [
    {
     "name": "stdout",
     "output_type": "stream",
     "text": [
      "<class 'pandas.core.frame.DataFrame'>\n",
      "RangeIndex: 2921 entries, 0 to 2920\n",
      "Columns: 143 entries, Rk to AerWon%\n",
      "dtypes: float64(133), int64(5), object(5)\n",
      "memory usage: 3.2+ MB\n"
     ]
    }
   ],
   "source": [
    "football_players_df.info()"
   ]
  },
  {
   "cell_type": "markdown",
   "id": "ea523cf2",
   "metadata": {},
   "source": [
    "I want to remove NaN values or nulls because those missing values can cause problems when trying to perform statistical analysis or machine learning on the data\n",
    "\n",
    "Actually, doing this action I am also cleaning the data, making it more accurate and reliable for my analysis."
   ]
  },
  {
   "cell_type": "code",
   "execution_count": 27,
   "id": "25658094",
   "metadata": {},
   "outputs": [
    {
     "name": "stdout",
     "output_type": "stream",
     "text": [
      "Rk         0\n",
      "Player     0\n",
      "Nation     0\n",
      "Pos        0\n",
      "Squad      0\n",
      "          ..\n",
      "OG         0\n",
      "Recov      0\n",
      "AerWon     0\n",
      "AerLost    0\n",
      "AerWon%    0\n",
      "Length: 143, dtype: int64\n"
     ]
    }
   ],
   "source": [
    "# Removing NaN values \n",
    "football_players_df = football_players_df.dropna()\n",
    "print(football_players_df.isnull().sum())"
   ]
  },
  {
   "cell_type": "markdown",
   "id": "dbbebbf6",
   "metadata": {},
   "source": [
    "### Data visualization"
   ]
  },
  {
   "cell_type": "code",
   "execution_count": 9,
   "id": "7c856f08",
   "metadata": {},
   "outputs": [],
   "source": [
    "# Defining the variables to check the correlation\n",
    "ages = football_players_df[\"Age\"]\n",
    "time = football_players_df[\"Min\"]\n",
    "MP = football_players_df[\"MP\"]\n",
    "goals = football_players_df[\"Goals\"]\n",
    "pos = football_players_df[\"Pos\"]"
   ]
  },
  {
   "cell_type": "code",
   "execution_count": 10,
   "id": "a07c5b0f",
   "metadata": {},
   "outputs": [
    {
     "name": "stdout",
     "output_type": "stream",
     "text": [
      "Correlation between Age and Minutes played:  0.25660341390184277\n",
      "Correlation between Age and Matched played:  0.2384588912035041\n",
      "Correlation between Age and Goals:  0.06320337341464836\n",
      "Correlation between Matched played and Goals:  0.14773740682041125\n"
     ]
    }
   ],
   "source": [
    "A_T = np.corrcoef(ages, time)[0,1]\n",
    "A_MP = np.corrcoef(ages, MP)[0,1]\n",
    "A_G = np.corrcoef(ages, goals)[0,1]\n",
    "MP_G = np.corrcoef(goals, MP)[0,1]\n",
    "\n",
    "print(\"Correlation between Age and Minutes played: \", A_T)\n",
    "print(\"Correlation between Age and Matched played: \", A_MP)\n",
    "print(\"Correlation between Age and Goals: \", A_G)\n",
    "print(\"Correlation between Matched played and Goals: \", MP_G)\n"
   ]
  },
  {
   "cell_type": "code",
   "execution_count": 11,
   "id": "9f10b276",
   "metadata": {},
   "outputs": [
    {
     "data": {
      "image/png": "[encoded data removed]",
      "text/plain": [
       "<Figure size 432x288 with 1 Axes>"
      ]
     },
     "metadata": {
      "needs_background": "light"
     },
     "output_type": "display_data"
    }
   ],
   "source": [
    "\n",
    "plt.scatter([1,2,3,4], [A_T, A_MP, A_G, MP_G])\n",
    "\n",
    "plt.xlabel(\"Correlation Coefficients\")\n",
    "plt.ylabel(\"Variables\")\n",
    "\n",
    "plt.title(\"Correlation Coefficients between Variables\")\n",
    "\n",
    "plt.show()\n"
   ]
  },
  {
   "cell_type": "markdown",
   "id": "db83480d",
   "metadata": {},
   "source": [
    "The correlation results suggest that there is a moderate positive correlation between age and minutes played, and a moderate positive correlation between age and matches played. This indicates that as players get older, they tend to play more minutes and matches. However, there is a weak positive correlation between age and goals scored, which suggests that age is not strongly associated with goal-scoring ability. Also, there is a moderate positive correlation between matches played and goals, which suggests that players who play more matches tend to score more goals."
   ]
  },
  {
   "cell_type": "code",
   "execution_count": 34,
   "id": "ecaba786",
   "metadata": {
    "scrolled": false
   },
   "outputs": [
    {
     "name": "stdout",
     "output_type": "stream",
     "text": [
      "Pos\n",
      "DF       36.84\n",
      "DFFW      1.82\n",
      "DFMF      3.03\n",
      "FW      122.55\n",
      "FWDF      4.80\n",
      "FWMF     71.06\n",
      "GK        0.00\n",
      "GKMF      0.00\n",
      "MF       44.46\n",
      "MFDF      4.00\n",
      "MFFW     36.47\n",
      "Name: Goals, dtype: float64\n"
     ]
    },
    {
     "data": {
      "image/png": "[encoded data removed]",
      "text/plain": [
       "<Figure size 432x288 with 1 Axes>"
      ]
     },
     "metadata": {
      "needs_background": "light"
     },
     "output_type": "display_data"
    }
   ],
   "source": [
    "# Group data by position\n",
    "position_groups = football_players_df.groupby(\"Pos\")\n",
    "\n",
    "# Calculate number of goals for each position\n",
    "position_goals = position_groups[\"Goals\"].sum()\n",
    "\n",
    "# Print the results\n",
    "print(position_goals)\n",
    "\n",
    "# Create a bar chart of position vs goals\n",
    "colors = cm.viridis(position_goals / max(position_goals))\n",
    "\n",
    "position_goals.plot(kind=\"bar\", color = colors)\n",
    "plt.xlabel(\"Position\")\n",
    "plt.ylabel(\"Goals\")\n",
    "plt.title(\"Number of goals by position\")\n",
    "plt.show()"
   ]
  },
  {
   "cell_type": "markdown",
   "id": "a3833b07",
   "metadata": {},
   "source": [
    "This results shows the sum of goals scored by players in different positions in a football team. From this data, it appears that the Forward (FW) position has the highest number of goals scored, followed by Midfielder (MF) and Forward-Midfielder (FWMF) positions. The Defender (DF) and Goalkeeper (GK) positions have the lowest number of goals scored. It's possible to infer that the positions where the players are closer to the opponent's goal, the higher is the chances of scoring goal."
   ]
  },
  {
   "cell_type": "code",
   "execution_count": 32,
   "id": "ed03e03e",
   "metadata": {},
   "outputs": [
    {
     "name": "stdout",
     "output_type": "stream",
     "text": [
      "Comp\n",
      "Bundesliga        68.17\n",
      "La Liga           59.53\n",
      "Ligue 1           65.44\n",
      "Premier League    60.34\n",
      "Serie A           71.55\n",
      "Name: Goals, dtype: float64\n"
     ]
    },
    {
     "data": {
      "image/png": "[encoded data removed]",
      "text/plain": [
       "<Figure size 432x288 with 1 Axes>"
      ]
     },
     "metadata": {
      "needs_background": "light"
     },
     "output_type": "display_data"
    }
   ],
   "source": [
    "# Group data by competition\n",
    "position_groups = football_players_df.groupby(\"Comp\")\n",
    "\n",
    "# Calculate number of goals for each competition\n",
    "position_goals = position_groups[\"Goals\"].sum()\n",
    "\n",
    "# Print the results\n",
    "print(position_goals)\n",
    "\n",
    "# Create a bar chart of Competition vs goals\n",
    "position_goals.plot(kind=\"bar\", color=['blue', 'green', 'red', 'pink','orange'])\n",
    "plt.xlabel(\"Position\")\n",
    "plt.ylabel(\"Goals\")\n",
    "plt.title(\"Number of goals by competition\")\n",
    "plt.show()\n"
   ]
  },
  {
   "cell_type": "markdown",
   "id": "ce7488d4",
   "metadata": {},
   "source": [
    "These results show the total number of goals scored by players in each league. It appears that players in Serie A have scored the most goals, while players in the Bundesliga have scored the least number of goals."
   ]
  },
  {
   "cell_type": "code",
   "execution_count": 36,
   "id": "b8e659f7",
   "metadata": {},
   "outputs": [
    {
     "name": "stdout",
     "output_type": "stream",
     "text": [
      "Nation\n",
      "ESP    4725.5\n",
      "ITA    3205.0\n",
      "ARG    1615.1\n",
      "BRA     852.7\n",
      "FRA     739.4\n",
      "COL     504.5\n",
      "NED     474.9\n",
      "POR     402.8\n",
      "CRO     377.0\n",
      "URU     363.0\n",
      "Name: total_goals, dtype: float64\n"
     ]
    },
    {
     "data": {
      "image/png": "[encoded data removed]",
      "text/plain": [
       "<Figure size 432x288 with 1 Axes>"
      ]
     },
     "metadata": {
      "needs_background": "light"
     },
     "output_type": "display_data"
    }
   ],
   "source": [
    "\n",
    "# Group the data by Nation and sum the Goals\n",
    "players_df[\"total_goals\"] = players_df[\"Goals\"] * players_df[\"MP\"]\n",
    "goals_by_nation = players_df.groupby(\"Nation\")[\"total_goals\"].sum().sort_values(ascending=False)\n",
    "\n",
    "# Select the top 10 countries\n",
    "top_10_countries = goals_by_nation.head(10)\n",
    "\n",
    "print(top_10_countries)\n",
    "\n",
    "# Plot the total number of goals for each country\n",
    "colors = cm.viridis(top_10_countries / max(top_10_countries))\n",
    "top_10_countries.plot(kind='bar', color=colors)\n",
    "plt.xlabel('Nation')\n",
    "plt.ylabel('Goals')\n",
    "plt.title('Number of Goals by Nation (Top 10 Countries)')\n",
    "plt.show()\n"
   ]
  },
  {
   "cell_type": "markdown",
   "id": "1bfe0d0d",
   "metadata": {},
   "source": [
    "These results show that the top 10 countries with the highest number of goals scored are Spain, Italy, Argentina, Brazil, France, the Netherlands, Colombia, Croatia, Serbia, and Portugal. These countries have a significantly higher number of goals scored compared to other countries, with Spain having the highest number of goals scored at 4725.5. This could indicate that these countries have a strong tradition of football and a high level of skill in the sport among their players."
   ]
  },
  {
   "cell_type": "markdown",
   "id": "3786ff93",
   "metadata": {},
   "source": [
    "#### Creating some functions "
   ]
  },
  {
   "cell_type": "code",
   "execution_count": 14,
   "id": "6d3525d6",
   "metadata": {},
   "outputs": [],
   "source": [
    "#Function to get all positions depending on the input\n",
    "def get_positions(position):\n",
    "    pos = []\n",
    "    if position == \"Forward\":\n",
    "        pos = [\"FW\", \"FWMF\", \"FWDF\"]\n",
    "    elif position == \"Midfielder\":\n",
    "        pos = [\"MF\", \"MFFW\", \"MFDF\"]\n",
    "    elif position == \"Defender\":\n",
    "        pos = [\"DF\", \"DFFW\", \"DFMF\"]\n",
    "    elif position == \"GK\":\n",
    "        pos = [\"GK\", \"GKMF\"]\n",
    "    return pos\n"
   ]
  },
  {
   "cell_type": "code",
   "execution_count": 15,
   "id": "5256db76",
   "metadata": {},
   "outputs": [],
   "source": [
    "def get_feature_weights(position, manager_tactics):\n",
    "    features = []\n",
    "    if position == \"Forward\":\n",
    "        features = [\"MP\", \"Goals\", \"Assists\", \"G/Sh\", \"G/SoT\", \"PasOff\", \"ScaDrib\", \"ScaSh\", \"GCA\", \"GcaDrib\", \"GcaSh\", \"DriSucc\", \"DriAtt\", \"DriPast\", \"PKwon\", \"AerWon\", \"AerLost\", \"ShoFK\", \"ShoPK\", \"PKatt\", \"PasTotCmp\", \"PasLive\", \"PasDead\", \"PasFK\", \"TB\", \"PasPress\", \"Sw\", \"PasCrs\", \"CK\", \"PasGround\"]\n",
    "        if manager_tactics == \"DEFENSIVE\":\n",
    "            weights = {\"MP\": 1, \"Goals\": 5, \"Assists\": 4,  \"G/Sh\": 3, \"G/SoT\": 3, \"PasOff\": -4, \"ScaDrib\": 4, \"ScaSh\": 4, \"GCA\": 6, \"GcaDrib\" : 5, \"GcaSh\" : 1.5, \"DriSucc\" : 2, \"DriAtt\": 2, \"DriPast\": 2, \"PKwon\" : 8, \"AerWon\": 8, \"AerLost\": -2, \"ShoFK\":2 , \"ShoPK\": 3, \"PKatt\": 3, \"PasTotCmp\":3, \"PasLive\":2, \"PasDead\":-2, \"PasFK\": 1.5, \"TB\": 1.5, \"PasPress\": 1.5, \"Sw\": 1.5, \"PasCrs\": 1.5, \"CK\": 1.5, \"PasGround\":1.5}   \n",
    "        elif manager_tactics == \"NEUTRAL\":\n",
    "            weights = {\"MP\": 1, \"Goals\": 5, \"Assists\": 5,  \"G/Sh\": 5, \"G/SoT\": 5, \"PasOff\": -5, \"ScaDrib\": 5, \"ScaSh\": 5, \"GCA\": 5, \"GcaDrib\" : 5, \"GcaSh\" : 5, \"DriSucc\" : 5, \"DriAtt\": 5, \"DriPast\": 5, \"PKwon\" : 1.5, \"AerWon\": 5, \"AerLost\": -5, \"ShoFK\":5 , \"ShoPK\": 5, \"PKatt\": 5, \"PasTotCmp\":5, \"PasLive\":5, \"PasDead\":-5, \"PasFK\": 3, \"TB\": 3, \"PasPress\": 3, \"Sw\": 3, \"PasCrs\": 1.5, \"CK\": 3, \"PasGround\": 3, \"SCA\": 3, \"ScaPassLive\": 5, \"ScaPassDead\": -5, \"GcaPassLive\" : 5, \"GcaPassDead\": -5, \"CrdY\": -5, \"CrdR\": -9, \"2CrdY\":-7, \"Fls\": -3}      \n",
    "        elif manager_tactics == \"OFFENSIVE\":\n",
    "            weights = {\"MP\": 1, \"Goals\": 10, \"Assists\": 10,  \"G/Sh\": 10, \"G/SoT\": 7, \"PasOff\": -1, \"ScaDrib\": 8, \"ScaSh\": 8, \"GCA\": 5, \"GcaDrib\" : 5, \"GcaSh\" : 5, \"DriSucc\" : 6, \"DriAtt\": 6, \"DriPast\": 6, \"PKwon\" : 1, \"AerWon\": 1, \"AerLost\": 1,  \"ShoFK\":10 , \"ShoPK\": 10, \"PKatt\": 3, \"PasTotCmp\":3, \"PasLive\":4, \"PasDead\":-4, \"PasFK\": 1.5, \"TB\": 1.5, \"PasPress\": 8, \"Sw\": 6, \"PasCrs\": 1, \"CK\": 3, \"PasGround\": 2, \"SCA\": 3, \"ScaPassLive\": 10, \"ScaPassDead\": -10, \"GcaPassLive\" : 10, \"GcaPassDead\": -10, \"CrdY\": -2.5, \"CrdR\": -4.5, \"2CrdY\":-3.5, \"Fls\": -1.5}         \n",
    "    elif position == \"Midfielder\":\n",
    "        features = [\"Goals\", \"Assists\", \"PasTotCmp\", \"PasAss\", \"PPA\", \"PasFK\", \"PasPress\", \"PasCrs\", \"CK\", \"CkIn\", \"CkOut\", \"PasOff\", \"PasOut\", \"PasInt\", \"PasBlocks\", \"ScaDrib\", \"GCA\", \"GcaPassLive\", \"DriSucc\"]\n",
    "        if manager_tactics == \"DEFENSIVE\":\n",
    "            weights = {\"MP\": 1, \"Goals\": 3, \"Assists\": 8, \"PasTotCmp\": 10 , \"PasAss\": 9, \"PPA\" : 2, \"PasFK\": 2, \"PasPress\" : 8, \"PasCrs\": 2, \"CK\": 1.5, \"CkIn\": 8, \"CkOut\": -1.5, \"PasOff\": -1.5, \"PasOut\": -1.5, \"PasInt\": -2, \"PasBlocks\": -1.5, \"ScaDrib\": 1.5, \"GCA\": 2, \"GcaPassLive\": 2, \"DriSucc\" : 2}\n",
    "        elif manager_tactics == \"NEUTRAL\":\n",
    "            weights = {\"MP\": 1, \"Goals\": 5, \"Assists\": 5, \"PasTotCmp\": 5 , \"PasAss\": 5, \"PPA\" : 5, \"PasFK\": 5, \"PasPress\" : 5, \"PasCrs\": 5, \"CK\": 5, \"CkIn\": 5, \"CkOut\": -5, \"PasOff\": -5, \"PasOut\": -5, \"PasInt\": -5, \"PasBlocks\": -5, \"ScaDrib\": 5, \"GCA\": 5, \"GcaPassLive\": 5, \"DriSucc\" : 5}\n",
    "        elif manager_tactics == \"OFFENSIVE\":\n",
    "            weights = {\"MP\": 1, \"Goals\": 10, \"Assists\": 10, \"PasTotCmp\": 10 , \"PasAss\": 9, \"PPA\" : 2, \"PasFK\": 2, \"PasPress\" : 10, \"PasCrs\": 10, \"CK\": 1, \"CkIn\": 6, \"CkOut\": -3, \"PasOff\": -1, \"PasOut\": -1, \"PasInt\": -1, \"PasBlocks\": -1, \"ScaDrib\": 5, \"GCA\": 3, \"GcaPassLive\": 3, \"DriSucc\" : 8}\n",
    "    elif position == \"Defender\":\n",
    "        if manager_tactics == \"DEFENSIVE\":\n",
    "            features = [\"MP\", \"PasInt\", \"ScaFld\", \"ScaDef\", \"GcaDef\", \"Tkl\", \"TklWon\", \"TklDef3rd\", \"TklDri\", \"Blocks\", \"Int\", \"Clr\", \"Err\", \"TouDefPen\",\"PKcon\"]\n",
    "            weights = {\"MP\": 1, \"PasInt\": 10, \"ScaFld\": -4, \"ScaDef\": 10, \"GcaDef\": 10, \"Tkl\": 8, \"TklWon\": 10, \"TklDef3rd\": 8, \"TklDri\": 10, \"Blocks\": 8, \"Int\": 10, \"Clr\": 8, \"Err\": -6, \"TouDefPen\": -8, \"PKcon\": -6}\n",
    "        elif manager_tactics == \"NEUTRAL\":\n",
    "            features = [\"MP\", \"PasInt\", \"ScaFld\", \"ScaDef\", \"GcaDef\", \"Tkl\", \"TklWon\", \"TklDef3rd\", \"TklDri\", \"Blocks\", \"Int\", \"Clr\", \"Err\", \"TouDefPen\",\"PKcon\"]\n",
    "            weights = {\"MP\": 1, \"PasInt\": 5, \"ScaFld\": -5, \"ScaDef\": 5, \"GcaDef\": 5, \"Tkl\": 5, \"TklWon\": 5, \"TklDef3rd\": 5, \"TklDri\": 5, \"Blocks\": 5, \"Int\": 5, \"Clr\": 5, \"Err\": -5, \"TouDefPen\": -5, \"PKcon\": -5}   \n",
    "        elif manager_tactics == \"OFFENSIVE\":\n",
    "            features = [\"MP\",\"Goals\",\"Assists\", \"PasInt\", \"DriSucc\", \"ScaFld\", \"ScaDef\", \"GcaDef\", \"Tkl\", \"TklWon\", \"TklDef3rd\", \"TklDri\", \"Blocks\", \"Int\", \"Clr\", \"Err\", \"TouDefPen\",\"PKcon\"]\n",
    "            weights = {\"MP\": 1, \"Goals\": 10,\"Assists\": 10, \"DriSucc\" : 10,\"PasInt\": 8, \"ScaFld\": -2, \"ScaDef\": 3, \"GcaDef\": 3, \"Tkl\": 10, \"TklWon\": 10, \"TklDef3rd\": 3, \"TklDri\": 3, \"Blocks\": 8, \"Int\": 10, \"Clr\": 8, \"Err\": -8, \"TouDefPen\": -3, \"PKcon\": -3}    \n",
    "    elif position == \"GK\": \n",
    "        features = [\"MP\",\"Goals\",\"Assists\", \"PasInt\", \"DriSucc\", \"ScaFld\", \"ScaDef\", \"GcaDef\", \"Tkl\", \"TklWon\", \"TklDef3rd\", \"TklDri\", \"Blocks\", \"Int\", \"Clr\", \"Err\", \"TouDefPen\",\"PKcon\", \"PasTotCmp\", \"PasShoCmp\", \"PasDead\", \"OG\"]\n",
    "        weights = {\"MP\": 1, \"Goals\": 10,\"Assists\": 10, \"DriSucc\" : 10,\"PasInt\": 8, \"ScaFld\": -2, \"ScaDef\": 3, \"GcaDef\": 3, \"Tkl\": 10, \"TklWon\": 10, \"TklDef3rd\": 3, \"TklDri\": 3, \"Blocks\": 8, \"Int\": 10, \"Clr\": 8, \"Err\": -8, \"TouDefPen\": -3, \"PKcon\": -3,\"PasTotCmp\": 10, \"PasShoCmp\": 8, \"PasDead\": -2, \"OG\":-10 }\n",
    "\n",
    "    return features, weights"
   ]
  },
  {
   "cell_type": "code",
   "execution_count": 16,
   "id": "446ca775",
   "metadata": {},
   "outputs": [
    {
     "name": "stdout",
     "output_type": "stream",
     "text": [
      "Enter the player's position ( Forward | Midfielder | Defender | GK): Forward\n",
      "Enter the manager's tactics (DEFENSIVE | NEUTRAL | OFFENSIVE): OFFENSIVE\n",
      "League 1 | Serie A | Bundesliga | La Liga | Premier League\n",
      "Enter the league name: League 1,Serie A,La Liga\n"
     ]
    },
    {
     "data": {
      "text/html": [
       "<div>\n",
       "<style scoped>\n",
       "    .dataframe tbody tr th:only-of-type {\n",
       "        vertical-align: middle;\n",
       "    }\n",
       "\n",
       "    .dataframe tbody tr th {\n",
       "        vertical-align: top;\n",
       "    }\n",
       "\n",
       "    .dataframe thead th {\n",
       "        text-align: right;\n",
       "    }\n",
       "</style>\n",
       "<table border=\"1\" class=\"dataframe\">\n",
       "  <thead>\n",
       "    <tr style=\"text-align: right;\">\n",
       "      <th></th>\n",
       "      <th>Player</th>\n",
       "      <th>Nation</th>\n",
       "      <th>Comp</th>\n",
       "      <th>Pos</th>\n",
       "      <th>total_stats</th>\n",
       "      <th>MP</th>\n",
       "      <th>Goals</th>\n",
       "      <th>Assists</th>\n",
       "      <th>G/Sh</th>\n",
       "      <th>G/SoT</th>\n",
       "      <th>...</th>\n",
       "      <th>PasTotCmp</th>\n",
       "      <th>PasLive</th>\n",
       "      <th>PasDead</th>\n",
       "      <th>PasFK</th>\n",
       "      <th>TB</th>\n",
       "      <th>PasPress</th>\n",
       "      <th>Sw</th>\n",
       "      <th>PasCrs</th>\n",
       "      <th>CK</th>\n",
       "      <th>PasGround</th>\n",
       "    </tr>\n",
       "  </thead>\n",
       "  <tbody>\n",
       "    <tr>\n",
       "      <th>448</th>\n",
       "      <td>Sergio Canales</td>\n",
       "      <td>ESP</td>\n",
       "      <td>La Liga</td>\n",
       "      <td>FWMF</td>\n",
       "      <td>21.285667</td>\n",
       "      <td>34</td>\n",
       "      <td>1.6</td>\n",
       "      <td>2.6</td>\n",
       "      <td>0.9</td>\n",
       "      <td>1.54</td>\n",
       "      <td>...</td>\n",
       "      <td>150.00</td>\n",
       "      <td>232.4</td>\n",
       "      <td>-8.40</td>\n",
       "      <td>1.890</td>\n",
       "      <td>0.480</td>\n",
       "      <td>88.80</td>\n",
       "      <td>12.60</td>\n",
       "      <td>1.39</td>\n",
       "      <td>0.96</td>\n",
       "      <td>89.80</td>\n",
       "    </tr>\n",
       "    <tr>\n",
       "      <th>1242</th>\n",
       "      <td>Lorenzo Insigne</td>\n",
       "      <td>ITA</td>\n",
       "      <td>Serie A</td>\n",
       "      <td>FW</td>\n",
       "      <td>21.218500</td>\n",
       "      <td>32</td>\n",
       "      <td>4.3</td>\n",
       "      <td>3.1</td>\n",
       "      <td>0.2</td>\n",
       "      <td>0.56</td>\n",
       "      <td>...</td>\n",
       "      <td>141.60</td>\n",
       "      <td>217.2</td>\n",
       "      <td>-20.00</td>\n",
       "      <td>2.010</td>\n",
       "      <td>0.465</td>\n",
       "      <td>88.80</td>\n",
       "      <td>14.88</td>\n",
       "      <td>2.05</td>\n",
       "      <td>7.44</td>\n",
       "      <td>80.80</td>\n",
       "    </tr>\n",
       "    <tr>\n",
       "      <th>332</th>\n",
       "      <td>Jeremie Boga</td>\n",
       "      <td>CIV</td>\n",
       "      <td>Serie A</td>\n",
       "      <td>FWMF</td>\n",
       "      <td>19.506833</td>\n",
       "      <td>15</td>\n",
       "      <td>0.0</td>\n",
       "      <td>0.0</td>\n",
       "      <td>0.0</td>\n",
       "      <td>0.00</td>\n",
       "      <td>...</td>\n",
       "      <td>121.20</td>\n",
       "      <td>186.4</td>\n",
       "      <td>-14.12</td>\n",
       "      <td>0.705</td>\n",
       "      <td>0.180</td>\n",
       "      <td>84.80</td>\n",
       "      <td>9.90</td>\n",
       "      <td>1.88</td>\n",
       "      <td>5.64</td>\n",
       "      <td>74.80</td>\n",
       "    </tr>\n",
       "    <tr>\n",
       "      <th>1146</th>\n",
       "      <td>Eden Hazard</td>\n",
       "      <td>BEL</td>\n",
       "      <td>La Liga</td>\n",
       "      <td>FWMF</td>\n",
       "      <td>19.176167</td>\n",
       "      <td>18</td>\n",
       "      <td>0.0</td>\n",
       "      <td>1.3</td>\n",
       "      <td>0.0</td>\n",
       "      <td>0.00</td>\n",
       "      <td>...</td>\n",
       "      <td>137.40</td>\n",
       "      <td>199.2</td>\n",
       "      <td>-6.52</td>\n",
       "      <td>0.750</td>\n",
       "      <td>0.375</td>\n",
       "      <td>80.80</td>\n",
       "      <td>5.28</td>\n",
       "      <td>1.63</td>\n",
       "      <td>0.75</td>\n",
       "      <td>85.20</td>\n",
       "    </tr>\n",
       "    <tr>\n",
       "      <th>669</th>\n",
       "      <td>Ousmane Dembélé</td>\n",
       "      <td>FRA</td>\n",
       "      <td>La Liga</td>\n",
       "      <td>FW</td>\n",
       "      <td>18.885167</td>\n",
       "      <td>21</td>\n",
       "      <td>0.6</td>\n",
       "      <td>8.3</td>\n",
       "      <td>0.2</td>\n",
       "      <td>0.77</td>\n",
       "      <td>...</td>\n",
       "      <td>116.10</td>\n",
       "      <td>192.0</td>\n",
       "      <td>-17.32</td>\n",
       "      <td>0.855</td>\n",
       "      <td>0.570</td>\n",
       "      <td>43.84</td>\n",
       "      <td>15.30</td>\n",
       "      <td>6.11</td>\n",
       "      <td>8.97</td>\n",
       "      <td>75.20</td>\n",
       "    </tr>\n",
       "    <tr>\n",
       "      <th>...</th>\n",
       "      <td>...</td>\n",
       "      <td>...</td>\n",
       "      <td>...</td>\n",
       "      <td>...</td>\n",
       "      <td>...</td>\n",
       "      <td>...</td>\n",
       "      <td>...</td>\n",
       "      <td>...</td>\n",
       "      <td>...</td>\n",
       "      <td>...</td>\n",
       "      <td>...</td>\n",
       "      <td>...</td>\n",
       "      <td>...</td>\n",
       "      <td>...</td>\n",
       "      <td>...</td>\n",
       "      <td>...</td>\n",
       "      <td>...</td>\n",
       "      <td>...</td>\n",
       "      <td>...</td>\n",
       "      <td>...</td>\n",
       "      <td>...</td>\n",
       "    </tr>\n",
       "    <tr>\n",
       "      <th>915</th>\n",
       "      <td>Francesco Forte</td>\n",
       "      <td>ITA</td>\n",
       "      <td>Serie A</td>\n",
       "      <td>FW</td>\n",
       "      <td>6.775667</td>\n",
       "      <td>12</td>\n",
       "      <td>2.1</td>\n",
       "      <td>0.0</td>\n",
       "      <td>0.9</td>\n",
       "      <td>3.50</td>\n",
       "      <td>...</td>\n",
       "      <td>35.10</td>\n",
       "      <td>59.6</td>\n",
       "      <td>-5.96</td>\n",
       "      <td>0.000</td>\n",
       "      <td>0.000</td>\n",
       "      <td>54.48</td>\n",
       "      <td>1.26</td>\n",
       "      <td>0.64</td>\n",
       "      <td>0.00</td>\n",
       "      <td>18.72</td>\n",
       "    </tr>\n",
       "    <tr>\n",
       "      <th>612</th>\n",
       "      <td>Patrick Cutrone</td>\n",
       "      <td>ITA</td>\n",
       "      <td>Serie A</td>\n",
       "      <td>FW</td>\n",
       "      <td>6.625667</td>\n",
       "      <td>28</td>\n",
       "      <td>1.9</td>\n",
       "      <td>0.0</td>\n",
       "      <td>0.6</td>\n",
       "      <td>1.40</td>\n",
       "      <td>...</td>\n",
       "      <td>33.00</td>\n",
       "      <td>58.8</td>\n",
       "      <td>-6.16</td>\n",
       "      <td>0.090</td>\n",
       "      <td>0.000</td>\n",
       "      <td>31.76</td>\n",
       "      <td>2.28</td>\n",
       "      <td>1.28</td>\n",
       "      <td>0.00</td>\n",
       "      <td>22.80</td>\n",
       "    </tr>\n",
       "    <tr>\n",
       "      <th>1846</th>\n",
       "      <td>Loren Morón</td>\n",
       "      <td>ESP</td>\n",
       "      <td>La Liga</td>\n",
       "      <td>FWMF</td>\n",
       "      <td>6.440667</td>\n",
       "      <td>21</td>\n",
       "      <td>1.6</td>\n",
       "      <td>0.0</td>\n",
       "      <td>1.0</td>\n",
       "      <td>3.50</td>\n",
       "      <td>...</td>\n",
       "      <td>27.15</td>\n",
       "      <td>57.2</td>\n",
       "      <td>-3.16</td>\n",
       "      <td>0.000</td>\n",
       "      <td>0.000</td>\n",
       "      <td>45.68</td>\n",
       "      <td>0.96</td>\n",
       "      <td>0.79</td>\n",
       "      <td>0.00</td>\n",
       "      <td>14.28</td>\n",
       "    </tr>\n",
       "    <tr>\n",
       "      <th>2596</th>\n",
       "      <td>Mamadou Sylla</td>\n",
       "      <td>SEN</td>\n",
       "      <td>La Liga</td>\n",
       "      <td>FW</td>\n",
       "      <td>6.340333</td>\n",
       "      <td>13</td>\n",
       "      <td>0.0</td>\n",
       "      <td>0.0</td>\n",
       "      <td>0.0</td>\n",
       "      <td>0.00</td>\n",
       "      <td>...</td>\n",
       "      <td>26.58</td>\n",
       "      <td>59.2</td>\n",
       "      <td>-3.64</td>\n",
       "      <td>0.000</td>\n",
       "      <td>0.000</td>\n",
       "      <td>41.84</td>\n",
       "      <td>5.46</td>\n",
       "      <td>1.59</td>\n",
       "      <td>0.00</td>\n",
       "      <td>15.90</td>\n",
       "    </tr>\n",
       "    <tr>\n",
       "      <th>824</th>\n",
       "      <td>Youssef En-Nesyri</td>\n",
       "      <td>MAR</td>\n",
       "      <td>La Liga</td>\n",
       "      <td>FW</td>\n",
       "      <td>5.758667</td>\n",
       "      <td>23</td>\n",
       "      <td>3.5</td>\n",
       "      <td>0.7</td>\n",
       "      <td>1.1</td>\n",
       "      <td>2.31</td>\n",
       "      <td>...</td>\n",
       "      <td>26.61</td>\n",
       "      <td>47.2</td>\n",
       "      <td>-4.24</td>\n",
       "      <td>0.000</td>\n",
       "      <td>0.210</td>\n",
       "      <td>32.08</td>\n",
       "      <td>2.94</td>\n",
       "      <td>0.28</td>\n",
       "      <td>0.00</td>\n",
       "      <td>14.22</td>\n",
       "    </tr>\n",
       "  </tbody>\n",
       "</table>\n",
       "<p>220 rows × 35 columns</p>\n",
       "</div>"
      ],
      "text/plain": [
       "                 Player Nation     Comp   Pos  total_stats  MP  Goals  \\\n",
       "448      Sergio Canales    ESP  La Liga  FWMF    21.285667  34    1.6   \n",
       "1242    Lorenzo Insigne    ITA  Serie A    FW    21.218500  32    4.3   \n",
       "332        Jeremie Boga    CIV  Serie A  FWMF    19.506833  15    0.0   \n",
       "1146        Eden Hazard    BEL  La Liga  FWMF    19.176167  18    0.0   \n",
       "669     Ousmane Dembélé    FRA  La Liga    FW    18.885167  21    0.6   \n",
       "...                 ...    ...      ...   ...          ...  ..    ...   \n",
       "915     Francesco Forte    ITA  Serie A    FW     6.775667  12    2.1   \n",
       "612     Patrick Cutrone    ITA  Serie A    FW     6.625667  28    1.9   \n",
       "1846        Loren Morón    ESP  La Liga  FWMF     6.440667  21    1.6   \n",
       "2596      Mamadou Sylla    SEN  La Liga    FW     6.340333  13    0.0   \n",
       "824   Youssef En-Nesyri    MAR  La Liga    FW     5.758667  23    3.5   \n",
       "\n",
       "      Assists  G/Sh  G/SoT  ...  PasTotCmp  PasLive  PasDead  PasFK     TB  \\\n",
       "448       2.6   0.9   1.54  ...     150.00    232.4    -8.40  1.890  0.480   \n",
       "1242      3.1   0.2   0.56  ...     141.60    217.2   -20.00  2.010  0.465   \n",
       "332       0.0   0.0   0.00  ...     121.20    186.4   -14.12  0.705  0.180   \n",
       "1146      1.3   0.0   0.00  ...     137.40    199.2    -6.52  0.750  0.375   \n",
       "669       8.3   0.2   0.77  ...     116.10    192.0   -17.32  0.855  0.570   \n",
       "...       ...   ...    ...  ...        ...      ...      ...    ...    ...   \n",
       "915       0.0   0.9   3.50  ...      35.10     59.6    -5.96  0.000  0.000   \n",
       "612       0.0   0.6   1.40  ...      33.00     58.8    -6.16  0.090  0.000   \n",
       "1846      0.0   1.0   3.50  ...      27.15     57.2    -3.16  0.000  0.000   \n",
       "2596      0.0   0.0   0.00  ...      26.58     59.2    -3.64  0.000  0.000   \n",
       "824       0.7   1.1   2.31  ...      26.61     47.2    -4.24  0.000  0.210   \n",
       "\n",
       "      PasPress     Sw  PasCrs    CK  PasGround  \n",
       "448      88.80  12.60    1.39  0.96      89.80  \n",
       "1242     88.80  14.88    2.05  7.44      80.80  \n",
       "332      84.80   9.90    1.88  5.64      74.80  \n",
       "1146     80.80   5.28    1.63  0.75      85.20  \n",
       "669      43.84  15.30    6.11  8.97      75.20  \n",
       "...        ...    ...     ...   ...        ...  \n",
       "915      54.48   1.26    0.64  0.00      18.72  \n",
       "612      31.76   2.28    1.28  0.00      22.80  \n",
       "1846     45.68   0.96    0.79  0.00      14.28  \n",
       "2596     41.84   5.46    1.59  0.00      15.90  \n",
       "824      32.08   2.94    0.28  0.00      14.22  \n",
       "\n",
       "[220 rows x 35 columns]"
      ]
     },
     "execution_count": 16,
     "metadata": {},
     "output_type": "execute_result"
    }
   ],
   "source": [
    "\n",
    "position = input(\"Enter the player's position ( Forward | Midfielder | Defender | GK): \")\n",
    "\n",
    "manager_tactics = input(\"Enter the manager's tactics (DEFENSIVE | NEUTRAL | OFFENSIVE): \")\n",
    "\n",
    " \n",
    "# Using the function to get the position\n",
    "pos = get_positions(position)\n",
    "\n",
    "print(\"League 1 | Serie A | Bundesliga | La Liga | Premier League\")\n",
    "league = input(\"Enter the league name: \").split(\",\")\n",
    "\n",
    "players_df = football_players_df[football_players_df[\"Pos\"].isin(pos) & (football_players_df[\"Comp\"].isin(league)) & (football_players_df[\"MP\"] >= 10)].copy()\n",
    "\n",
    "# Using the function to apply for each position and manager tactics different weights\n",
    "features, weights = get_feature_weights(position, manager_tactics)\n",
    "  \n",
    "# Apply the weights to the features.\n",
    "for feature, weight in zip(features, weights.values()):\n",
    "    players_df[feature] = players_df[feature]*weight\n",
    "\n",
    "# Creating the column with the total stats for each player in order to get the best players \n",
    "players_df[\"total_stats\"] = players_df[features].apply(lambda row: sum(row[feature] for feature in features) / len(features), axis=1)\n",
    "\n",
    "# Selecting the columns including only the features depending on the position.\n",
    "columns_to_select = [\"Player\", \"Nation\", \"Comp\",\"Pos\", \"total_stats\"] + features\n",
    "players_df = players_df[columns_to_select].copy()\n",
    "\n",
    "# Sorting the players by total_stats\n",
    "players_df = players_df.sort_values(\"total_stats\", ascending=False)\n",
    "\n",
    "# Printing the players by total_stats\n",
    "players_df\n"
   ]
  },
  {
   "cell_type": "markdown",
   "id": "1067a172",
   "metadata": {},
   "source": [
    "# Training and evaluation using Logistic Regression and Support Vector Machines"
   ]
  },
  {
   "cell_type": "markdown",
   "id": "f9374bb7",
   "metadata": {},
   "source": [
    "The purpose of this project is to predict who is the best player to play in my team based on different features such as the goals, assists and other statistics depending on the position and the tactics of the manager.\n",
    "I want to use Logistic Regression and Support Vector Machines to train the model.\n",
    "In this case is a classification problem because I want to see if the player is fit or not so the possible outcomes are 0 or 1."
   ]
  },
  {
   "cell_type": "markdown",
   "id": "a338c7a3",
   "metadata": {},
   "source": [
    "## Logistic Regression"
   ]
  },
  {
   "cell_type": "markdown",
   "id": "fb02e952",
   "metadata": {},
   "source": [
    "First of all, I will start with this method in order to make the prediction\n",
    "I will create the column \"is_fit\" choosing what players are fit or nor depending on the the mean of total statistics.\n",
    "After that, I will split it into training and test set."
   ]
  },
  {
   "cell_type": "code",
   "execution_count": 69,
   "id": "ca7242cf",
   "metadata": {
    "scrolled": false
   },
   "outputs": [],
   "source": [
    "\n",
    "# Create a binary column \"is_fit\"\n",
    "players_df[\"is_fit\"] = players_df[\"total_stats\"] > players_df[\"total_stats\"].mean()\n",
    "\n",
    "# Divide data into features and target variable\n",
    "X = players_df[features]\n",
    "y = players_df[\"is_fit\"]\n",
    "\n",
    "# Divide data into training and testing sets\n",
    "X_train, X_test, y_train, y_test = train_test_split(X, y, test_size=0.2, random_state=42)\n",
    "\n",
    "# Train a logistic regression model on the training data\n",
    "clf = LogisticRegression(random_state=0).fit(X_train, y_train)\n",
    "\n",
    "# Make predictions on the testing data\n",
    "y_pred = clf.predict(X_test)\n",
    "\n",
    "# Print the accuracy of the model\n",
    "accuracyLR = accuracy_score(y_test, y_pred)\n",
    "\n",
    "\n",
    "# Calculate precision, recall, and F1-score\n",
    "precisionLR = precision_score(y_test, y_pred)\n",
    "recallLR = recall_score(y_test, y_pred)\n",
    "f1LR = f1_score(y_test, y_pred)\n",
    "# Perform 5-fold cross-validation\n",
    "scores = cross_val_score(clf, X, y, cv=5)\n",
    "\n"
   ]
  },
  {
   "cell_type": "markdown",
   "id": "54cc6931",
   "metadata": {},
   "source": [
    "## Confusion Matrix Logistic Regression"
   ]
  },
  {
   "cell_type": "code",
   "execution_count": 18,
   "id": "50af6b2f",
   "metadata": {},
   "outputs": [
    {
     "data": {
      "image/png": "[encoded data removed]",
      "text/plain": [
       "<Figure size 432x288 with 2 Axes>"
      ]
     },
     "metadata": {
      "needs_background": "light"
     },
     "output_type": "display_data"
    }
   ],
   "source": [
    "\n",
    "\n",
    "# Compute confusion matrix\n",
    "cnf_matrixLR = confusion_matrix(y_test, y_pred)\n",
    "\n",
    "# Plot the confusion matrix\n",
    "class_names = [\"not fit\", \"fit\"]\n",
    "plt.imshow(cnf_matrixLR, interpolation='nearest', cmap=plt.cm.Blues)\n",
    "plt.title(\"Confusion matrix\")\n",
    "plt.colorbar()\n",
    "tick_marks = np.arange(len(class_names))\n",
    "plt.xticks(tick_marks, class_names, rotation=45)\n",
    "plt.yticks(tick_marks, class_names)\n",
    "\n",
    "# Add labels to each cell\n",
    "thresh = cnf_matrixLR.max() / 2.\n",
    "for i, j in itertools.product(range(cnf_matrixLR.shape[0]), range(cnf_matrixLR.shape[1])):\n",
    "    plt.text(j, i, cnf_matrixLR[i, j],\n",
    "             horizontalalignment=\"center\",\n",
    "             color=\"white\" if cnf_matrixLR[i, j] > thresh else \"black\")\n",
    "\n",
    "plt.tight_layout()\n",
    "plt.ylabel('True label')\n",
    "plt.xlabel('Predicted label')\n",
    "plt.show()"
   ]
  },
  {
   "cell_type": "markdown",
   "id": "5c6dbcd7",
   "metadata": {},
   "source": [
    "#  Support Vector Machine\n"
   ]
  },
  {
   "cell_type": "code",
   "execution_count": 67,
   "id": "4ab49e17",
   "metadata": {},
   "outputs": [],
   "source": [
    "\n",
    "\n",
    "# Create a binary column \"is_fit\"\n",
    "players_df[\"is_fit\"] = players_df[\"total_stats\"] > players_df[\"total_stats\"].mean()\n",
    "\n",
    "# Divide data into features and target variable\n",
    "X = players_df[features]\n",
    "y = players_df[\"is_fit\"]\n",
    "\n",
    "# Divide data into training and testing sets\n",
    "X_train, X_test, y_train, y_test = train_test_split(X, y, test_size=0.2, random_state=42)\n",
    "\n",
    "# Create an SVM classifier\n",
    "svc = SVC(kernel='linear', C=1, random_state=0)\n",
    "\n",
    "# Train the classifier on the training data\n",
    "svc.fit(X_train, y_train)\n",
    "\n",
    "# Make predictions on the testing data\n",
    "y_predSVM = svc.predict(X_test)\n",
    "\n",
    "# Print the accuracy of the model\n",
    "accuracy = accuracy_score(y_test, y_predSVM)\n",
    "\n",
    "# Calculate precision, recall, and F1-score\n",
    "precisionSVM = precision_score(y_test, y_predSVM)\n",
    "recallSVM = recall_score(y_test, y_predSVM)\n",
    "f1SVM = f1_score(y_test, y_predSVM)\n",
    "# Perform 5-fold cross-validation\n",
    "scoresSVC = cross_val_score(svc, X, y, cv=5)\n",
    "\n"
   ]
  },
  {
   "cell_type": "markdown",
   "id": "d3b058c9",
   "metadata": {},
   "source": [
    "## Confusion Matrix SVM"
   ]
  },
  {
   "cell_type": "code",
   "execution_count": 20,
   "id": "54beaa47",
   "metadata": {},
   "outputs": [
    {
     "data": {
      "image/png": "[encoded data removed]",
      "text/plain": [
       "<Figure size 432x288 with 2 Axes>"
      ]
     },
     "metadata": {
      "needs_background": "light"
     },
     "output_type": "display_data"
    }
   ],
   "source": [
    "\n",
    "# Compute confusion matrix\n",
    "cnf_matrixSVM = confusion_matrix(y_test, y_predSVM)\n",
    "\n",
    "# Plot the confusion matrix\n",
    "class_names = [\"not fit\", \"fit\"]\n",
    "plt.imshow(cnf_matrixSVM, interpolation='nearest', cmap=plt.cm.Blues)\n",
    "plt.title(\"Confusion matrix\")\n",
    "plt.colorbar()\n",
    "tick_marks = np.arange(len(class_names))\n",
    "plt.xticks(tick_marks, class_names, rotation=45)\n",
    "plt.yticks(tick_marks, class_names)\n",
    "\n",
    "# Add labels to each cell\n",
    "thresh = cnf_matrixSVM.max() / 2.\n",
    "for i, j in itertools.product(range(cnf_matrixSVM.shape[0]), range(cnf_matrixSVM.shape[1])):\n",
    "    plt.text(j, i, cnf_matrixSVM[i, j],\n",
    "             horizontalalignment=\"center\",\n",
    "             color=\"white\" if cnf_matrixSVM[i, j] > thresh else \"black\")\n",
    "\n",
    "plt.tight_layout()\n",
    "plt.ylabel('True label')\n",
    "plt.xlabel('Predicted label')\n",
    "plt.show()\n",
    "             "
   ]
  },
  {
   "cell_type": "markdown",
   "id": "6c54f61f",
   "metadata": {},
   "source": [
    "### Comparation and evaluation"
   ]
  },
  {
   "cell_type": "markdown",
   "id": "b51e381a",
   "metadata": {},
   "source": [
    "I will evaluate the performances of Logistic Regression and Support Vector Machines with:\n",
    "    <ul>\n",
    "        <li>Accuracy: is the number of correctly predicted data points out of all the data points.</li>\n",
    "        <li>F1_score: is a machine learning evaluation metric that measures a model's accuracy</li>\n",
    "        <li>Precision: is one indicator of a machine learning model's performance – the quality of a positive prediction made by the mode</li>\n",
    "        <li>Recall: is calculated as the ratio between the numbers of Positive samples correctly classified as Positive to the total number of Positive samples</li>\n",
    "        <li>Cross Validation: a technique for evaluating ML models by training several ML models on subsets of the available input data and evaluating them on the complementary subset of the data</li>\n",
    "    </ul>"
   ]
  },
  {
   "cell_type": "code",
   "execution_count": 71,
   "id": "559074c1",
   "metadata": {},
   "outputs": [
    {
     "name": "stdout",
     "output_type": "stream",
     "text": [
      "Accuracy Logistic Regression: 88.64%\n",
      "Precision Logistic Regression: 85.71%\n",
      "Recall Logistic Regression: 80.00%\n",
      "F1-score Logistic Regression: 82.76%\n",
      "Mean score Logistic Regression: 0.80 (+/- 0.18)\n",
      "Accuracy Support Vector Machines: 97.73%\n",
      "Precision Support Vector Machines: 93.75%\n",
      "Recall Support Vector Machines: 100.00%\n",
      "F1-score Support Vector Machines: 96.77%\n",
      "Mean score Support Vector Machine: 0.92 (+/- 0.20)\n"
     ]
    }
   ],
   "source": [
    "\n",
    "print(\"Accuracy Logistic Regression: {:.2f}%\".format(accuracyLR * 100))\n",
    "print(\"Precision Logistic Regression: {:.2f}%\".format(precisionLR * 100))\n",
    "print(\"Recall Logistic Regression: {:.2f}%\".format(recallLR * 100))\n",
    "print(\"F1-score Logistic Regression: {:.2f}%\".format(f1LR * 100))\n",
    "\n",
    "\n",
    "\n",
    "print(\"Accuracy Support Vector Machines: {:.2f}%\".format(accuracy * 100))\n",
    "print(\"Precision Support Vector Machines: {:.2f}%\".format(precisionSVM * 100))\n",
    "print(\"Recall Support Vector Machines: {:.2f}%\".format(recallSVM * 100))\n",
    "print(\"F1-score Support Vector Machines: {:.2f}%\".format(f1SVM * 100))\n"
   ]
  },
  {
   "cell_type": "code",
   "execution_count": 73,
   "id": "570dd8ad",
   "metadata": {},
   "outputs": [
    {
     "name": "stdout",
     "output_type": "stream",
     "text": [
      "Mean score Logistic Regression: 0.80 (+/- 0.18)\n",
      "Mean score Support Vector Machine: 0.92 (+/- 0.20)\n"
     ]
    }
   ],
   "source": [
    "print(\"Mean score Logistic Regression: %0.2f (+/- %0.2f)\" % (scores.mean(), scores.std() * 2))\n",
    "print(\"Mean score Support Vector Machine: %0.2f (+/- %0.2f)\" % (scoresSVC.mean(), scoresSVC.std() * 2))"
   ]
  },
  {
   "cell_type": "markdown",
   "id": "4cfa3656",
   "metadata": {},
   "source": [
    "Based on these results, Support Vector Machine model is performing slightly better than the Logistic Regression model, as it has a higher mean score. The SVM model has a mean score of 0.92, compared to 0.80 for the Logistic Regression model. "
   ]
  },
  {
   "cell_type": "markdown",
   "id": "9090633c",
   "metadata": {},
   "source": [
    "### List of football players fit for my team with Logisitc Regression"
   ]
  },
  {
   "cell_type": "code",
   "execution_count": 63,
   "id": "df397631",
   "metadata": {},
   "outputs": [
    {
     "name": "stdout",
     "output_type": "stream",
     "text": [
      "                      Player     Comp   Pos  total_stats\n",
      "332             Jeremie Boga  Serie A  FWMF    19.506833\n",
      "669          Ousmane Dembélé  La Liga    FW    18.885167\n",
      "2378          Alexis Sánchez  Serie A    FW    17.488833\n",
      "196            Antonín Barák  Serie A  FWMF    16.693333\n",
      "286         Domenico Berardi  Serie A    FW    16.480167\n",
      "573             Jesús Corona  La Liga  FWDF    16.414833\n",
      "862                Ansu Fati  La Liga    FW    16.206500\n",
      "460         Gianluca Caprari  Serie A  FWMF    16.069333\n",
      "331             Jeremie Boga  Serie A  FWMF    15.894333\n",
      "2288  Óscar Rodríguez Arnaiz  La Liga  FWMF    15.332500\n"
     ]
    }
   ],
   "source": [
    "#Print top players who are fit based on the prediction\n",
    "players_df1 = players_df.head(len(y_pred))\n",
    "players_df1[\"is_fit_pred\"] = y_pred\n",
    "\n",
    "# Select the players who are predicted to be fit\n",
    "players_df_fit = players_df1[players_df1[\"is_fit_pred\"] == True]\n",
    "\n",
    "# Sort the players by total stats\n",
    "players_df_fit = players_df_fit.sort_values(\"total_stats\", ascending=False)\n",
    "\n",
    "# Print the top 10 players by composite score\n",
    "top_10_players = players_df_fit.head(10)\n",
    "print(top_10_players[[\"Player\", \"Comp\", \"Pos\", \"total_stats\"]])"
   ]
  },
  {
   "cell_type": "markdown",
   "id": "dcf508e4",
   "metadata": {},
   "source": [
    "### List of football players fit for my team with Support Vector Machines"
   ]
  },
  {
   "cell_type": "code",
   "execution_count": 64,
   "id": "61d9b9f7",
   "metadata": {},
   "outputs": [
    {
     "name": "stdout",
     "output_type": "stream",
     "text": [
      "                Player     Comp   Pos  total_stats\n",
      "332       Jeremie Boga  Serie A  FWMF    19.506833\n",
      "669    Ousmane Dembélé  La Liga    FW    18.885167\n",
      "1312   Vinicius Júnior  La Liga    FW    18.433500\n",
      "2378    Alexis Sánchez  Serie A    FW    17.488833\n",
      "196      Antonín Barák  Serie A  FWMF    16.693333\n",
      "813         Elif Elmas  Serie A  FWMF    16.595500\n",
      "286   Domenico Berardi  Serie A    FW    16.480167\n",
      "573       Jesús Corona  La Liga  FWDF    16.414833\n",
      "862          Ansu Fati  La Liga    FW    16.206500\n",
      "2691      Adama Traoré  La Liga  FWDF    16.094667\n"
     ]
    }
   ],
   "source": [
    "#Print top players who are fit based on the prediction\n",
    "players_dfSVM = players_df.head(len(y_predSVM))\n",
    "players_dfSVM[\"is_fit_pred\"] = y_predSVM\n",
    "\n",
    "# Select the players who are predicted to be fit\n",
    "players_df_fitSVM = players_dfSVM[players_dfSVM[\"is_fit_pred\"] == True]\n",
    "\n",
    "# Sort the players by total stats\n",
    "players_df_fitSVM = players_df_fitSVM.sort_values(\"total_stats\", ascending=False)\n",
    "\n",
    "# Print the top 10 players by composite score\n",
    "top_10_players = players_df_fitSVM.head(10)\n",
    "print(top_10_players[[\"Player\", \"Comp\", \"Pos\", \"total_stats\"]])"
   ]
  },
  {
   "cell_type": "markdown",
   "id": "abba650a",
   "metadata": {},
   "source": [
    "As we can see, most of the football players listed are the same in both lists."
   ]
  },
  {
   "cell_type": "markdown",
   "id": "b1143f77",
   "metadata": {},
   "source": [
    "## Conclusions"
   ]
  },
  {
   "cell_type": "markdown",
   "id": "4c96b0a9",
   "metadata": {},
   "source": [
    "In this project, I aimed to predict the outcome of football players who are fit to my team using machine learning techniques. First, I collected and preprocessed the data, and then I explored it.\n",
    "I have used Logistic Regression and Support Vector Machines in order to train the data to predict it.\n",
    "\n",
    "The last results that we can see suggest that the logistic regression model and the support vector machine (SVM) model are both performing well at classifying the \"is_fit\" variable in the data. The logistic regression model has an accuracy of 88.64%, which means it correctly classifies 88.64% of the players in the test set as \"fit\" or \"not fit\". The precision of the logistic regression model is 85.71%, which means that of all the players it classified as \"fit\", 85.71% of them were actually \"fit\". The recall of the logistic regression model is 80.00%, which means that it correctly identified 80.00% of all the \"fit\" players in the test set. The F1-score of the logistic regression model is 82.76%, which is a harmonic mean of precision and recall, and gives a balance between precision and recall.\n",
    "\n",
    "On the other hand, the SVM model has an accuracy of 97.73%, which is higher than Logistic Regression model. The precision of the SVM model is 93.75%, which means that of all the players it classified as \"fit\", 93.75% of them were actually \"fit\". The recall of the SVM model is 100.00%, which means that it correctly identified 100.00% of all the \"fit\" players in the test set. The F1-score of the SVM model is 96.77%, which is also higher than Logistic Regression model.\n",
    "\n",
    "Also we can see the list of top 10 players who are fit for my team based on the statistics, manager's tactics and the leagues selected.\n",
    "\n",
    "In summary, both models are performing well at classifying the \"is_fit\" variable, with the SVM model achieving higher accuracy, precision, recall, and F1-score.\n"
   ]
  },
  {
   "cell_type": "markdown",
   "id": "cdb6e062",
   "metadata": {},
   "source": [
    "## Critical Assessment"
   ]
  },
  {
   "cell_type": "markdown",
   "id": "166859f3",
   "metadata": {},
   "source": [
    "One of the main challenges faced during this project was the limited amount of data available. This made it difficult to train the models and obtain accurate predictions. \n",
    "Despite these challenges, the results of the models were promising. Logistic Regression achieved an accuracy of 80% with a standard deviation of 18%, while Support Vector Machine achieved an accuracy of 92% with a standard deviation of 20%. This indicates that SVM performed better than Logistic Regression.\n",
    "\n",
    "However, it is important to note that the results of this project should be interpreted with caution, as I created the weights and I chose which feature could be better for each position. Since I did not have any column to obtain these values.\n",
    "\n",
    "In conclusion, this project provided a valuable learning experience in terms of understanding the process of building a machine learning model and the challenges that come with it. The results obtained from the models were promising. One possible thing to improve could be to find a formula or dataframe with the values of the weight of each future based on the position and some information to see which feature could be better for each position."
   ]
  }
 ],
 "metadata": {
  "kernelspec": {
   "display_name": "Python 3 (ipykernel)",
   "language": "python",
   "name": "python3"
  },
  "language_info": {
   "codemirror_mode": {
    "name": "ipython",
    "version": 3
   },
   "file_extension": ".py",
   "mimetype": "text/x-python",
   "name": "python",
   "nbconvert_exporter": "python",
   "pygments_lexer": "ipython3",
   "version": "3.9.12"
  }
 },
 "nbformat": 4,
 "nbformat_minor": 5
}
